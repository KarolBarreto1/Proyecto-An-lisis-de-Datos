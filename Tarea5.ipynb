{
 "cells": [
  {
   "cell_type": "code",
   "execution_count": 1,
   "id": "9603709d-f465-4518-b4c0-aa5e705d8378",
   "metadata": {},
   "outputs": [],
   "source": [
    "import pandas as pd\n",
    "import numpy as np\n",
    "import seaborn as sns\n",
    "import matplotlib.pyplot as plt\n",
    "\n",
    "from sklearn import metrics\n",
    "from sklearn.model_selection import train_test_split\n",
    "from sklearn.linear_model import LogisticRegression\n",
    "from sklearn.metrics import classification_report, confusion_matrix"
   ]
  },
  {
   "cell_type": "markdown",
   "id": "4e532e98-a037-4e1e-b68d-202715d8f0bd",
   "metadata": {},
   "source": [
    "# LECTURA Y CARGUE DE DATOS"
   ]
  },
  {
   "cell_type": "code",
   "execution_count": 4,
   "id": "db854da8-c9b5-4395-86f2-4fad08a4f9fe",
   "metadata": {},
   "outputs": [],
   "source": [
    "Database = pd.read_csv('C:/Users/ASUS/Downloads/Anexo 6 - Dataset Titanic/Titanic-Dataset.csv')"
   ]
  },
  {
   "cell_type": "code",
   "execution_count": 6,
   "id": "437a0f77-6c84-4d39-b8d1-6df0e7b64476",
   "metadata": {},
   "outputs": [
    {
     "data": {
      "text/html": [
       "<div>\n",
       "<style scoped>\n",
       "    .dataframe tbody tr th:only-of-type {\n",
       "        vertical-align: middle;\n",
       "    }\n",
       "\n",
       "    .dataframe tbody tr th {\n",
       "        vertical-align: top;\n",
       "    }\n",
       "\n",
       "    .dataframe thead th {\n",
       "        text-align: right;\n",
       "    }\n",
       "</style>\n",
       "<table border=\"1\" class=\"dataframe\">\n",
       "  <thead>\n",
       "    <tr style=\"text-align: right;\">\n",
       "      <th></th>\n",
       "      <th>PassengerId</th>\n",
       "      <th>Survived</th>\n",
       "      <th>Pclass</th>\n",
       "      <th>Name</th>\n",
       "      <th>Sex</th>\n",
       "      <th>Age</th>\n",
       "      <th>SibSp</th>\n",
       "      <th>Parch</th>\n",
       "      <th>Ticket</th>\n",
       "      <th>Fare</th>\n",
       "      <th>Cabin</th>\n",
       "      <th>Embarked</th>\n",
       "    </tr>\n",
       "  </thead>\n",
       "  <tbody>\n",
       "    <tr>\n",
       "      <th>0</th>\n",
       "      <td>1</td>\n",
       "      <td>0</td>\n",
       "      <td>3</td>\n",
       "      <td>Braund, Mr. Owen Harris</td>\n",
       "      <td>male</td>\n",
       "      <td>22.0</td>\n",
       "      <td>1</td>\n",
       "      <td>0</td>\n",
       "      <td>A/5 21171</td>\n",
       "      <td>7.2500</td>\n",
       "      <td>NaN</td>\n",
       "      <td>S</td>\n",
       "    </tr>\n",
       "    <tr>\n",
       "      <th>1</th>\n",
       "      <td>2</td>\n",
       "      <td>1</td>\n",
       "      <td>1</td>\n",
       "      <td>Cumings, Mrs. John Bradley (Florence Briggs Th...</td>\n",
       "      <td>female</td>\n",
       "      <td>38.0</td>\n",
       "      <td>1</td>\n",
       "      <td>0</td>\n",
       "      <td>PC 17599</td>\n",
       "      <td>71.2833</td>\n",
       "      <td>C85</td>\n",
       "      <td>C</td>\n",
       "    </tr>\n",
       "    <tr>\n",
       "      <th>2</th>\n",
       "      <td>3</td>\n",
       "      <td>1</td>\n",
       "      <td>3</td>\n",
       "      <td>Heikkinen, Miss. Laina</td>\n",
       "      <td>female</td>\n",
       "      <td>26.0</td>\n",
       "      <td>0</td>\n",
       "      <td>0</td>\n",
       "      <td>STON/O2. 3101282</td>\n",
       "      <td>7.9250</td>\n",
       "      <td>NaN</td>\n",
       "      <td>S</td>\n",
       "    </tr>\n",
       "    <tr>\n",
       "      <th>3</th>\n",
       "      <td>4</td>\n",
       "      <td>1</td>\n",
       "      <td>1</td>\n",
       "      <td>Futrelle, Mrs. Jacques Heath (Lily May Peel)</td>\n",
       "      <td>female</td>\n",
       "      <td>35.0</td>\n",
       "      <td>1</td>\n",
       "      <td>0</td>\n",
       "      <td>113803</td>\n",
       "      <td>53.1000</td>\n",
       "      <td>C123</td>\n",
       "      <td>S</td>\n",
       "    </tr>\n",
       "    <tr>\n",
       "      <th>4</th>\n",
       "      <td>5</td>\n",
       "      <td>0</td>\n",
       "      <td>3</td>\n",
       "      <td>Allen, Mr. William Henry</td>\n",
       "      <td>male</td>\n",
       "      <td>35.0</td>\n",
       "      <td>0</td>\n",
       "      <td>0</td>\n",
       "      <td>373450</td>\n",
       "      <td>8.0500</td>\n",
       "      <td>NaN</td>\n",
       "      <td>S</td>\n",
       "    </tr>\n",
       "    <tr>\n",
       "      <th>5</th>\n",
       "      <td>6</td>\n",
       "      <td>0</td>\n",
       "      <td>3</td>\n",
       "      <td>Moran, Mr. James</td>\n",
       "      <td>male</td>\n",
       "      <td>NaN</td>\n",
       "      <td>0</td>\n",
       "      <td>0</td>\n",
       "      <td>330877</td>\n",
       "      <td>8.4583</td>\n",
       "      <td>NaN</td>\n",
       "      <td>Q</td>\n",
       "    </tr>\n",
       "    <tr>\n",
       "      <th>6</th>\n",
       "      <td>7</td>\n",
       "      <td>0</td>\n",
       "      <td>1</td>\n",
       "      <td>McCarthy, Mr. Timothy J</td>\n",
       "      <td>male</td>\n",
       "      <td>54.0</td>\n",
       "      <td>0</td>\n",
       "      <td>0</td>\n",
       "      <td>17463</td>\n",
       "      <td>51.8625</td>\n",
       "      <td>E46</td>\n",
       "      <td>S</td>\n",
       "    </tr>\n",
       "    <tr>\n",
       "      <th>7</th>\n",
       "      <td>8</td>\n",
       "      <td>0</td>\n",
       "      <td>3</td>\n",
       "      <td>Palsson, Master. Gosta Leonard</td>\n",
       "      <td>male</td>\n",
       "      <td>2.0</td>\n",
       "      <td>3</td>\n",
       "      <td>1</td>\n",
       "      <td>349909</td>\n",
       "      <td>21.0750</td>\n",
       "      <td>NaN</td>\n",
       "      <td>S</td>\n",
       "    </tr>\n",
       "    <tr>\n",
       "      <th>8</th>\n",
       "      <td>9</td>\n",
       "      <td>1</td>\n",
       "      <td>3</td>\n",
       "      <td>Johnson, Mrs. Oscar W (Elisabeth Vilhelmina Berg)</td>\n",
       "      <td>female</td>\n",
       "      <td>27.0</td>\n",
       "      <td>0</td>\n",
       "      <td>2</td>\n",
       "      <td>347742</td>\n",
       "      <td>11.1333</td>\n",
       "      <td>NaN</td>\n",
       "      <td>S</td>\n",
       "    </tr>\n",
       "    <tr>\n",
       "      <th>9</th>\n",
       "      <td>10</td>\n",
       "      <td>1</td>\n",
       "      <td>2</td>\n",
       "      <td>Nasser, Mrs. Nicholas (Adele Achem)</td>\n",
       "      <td>female</td>\n",
       "      <td>14.0</td>\n",
       "      <td>1</td>\n",
       "      <td>0</td>\n",
       "      <td>237736</td>\n",
       "      <td>30.0708</td>\n",
       "      <td>NaN</td>\n",
       "      <td>C</td>\n",
       "    </tr>\n",
       "    <tr>\n",
       "      <th>10</th>\n",
       "      <td>11</td>\n",
       "      <td>1</td>\n",
       "      <td>3</td>\n",
       "      <td>Sandstrom, Miss. Marguerite Rut</td>\n",
       "      <td>female</td>\n",
       "      <td>4.0</td>\n",
       "      <td>1</td>\n",
       "      <td>1</td>\n",
       "      <td>PP 9549</td>\n",
       "      <td>16.7000</td>\n",
       "      <td>G6</td>\n",
       "      <td>S</td>\n",
       "    </tr>\n",
       "    <tr>\n",
       "      <th>11</th>\n",
       "      <td>12</td>\n",
       "      <td>1</td>\n",
       "      <td>1</td>\n",
       "      <td>Bonnell, Miss. Elizabeth</td>\n",
       "      <td>female</td>\n",
       "      <td>58.0</td>\n",
       "      <td>0</td>\n",
       "      <td>0</td>\n",
       "      <td>113783</td>\n",
       "      <td>26.5500</td>\n",
       "      <td>C103</td>\n",
       "      <td>S</td>\n",
       "    </tr>\n",
       "    <tr>\n",
       "      <th>12</th>\n",
       "      <td>13</td>\n",
       "      <td>0</td>\n",
       "      <td>3</td>\n",
       "      <td>Saundercock, Mr. William Henry</td>\n",
       "      <td>male</td>\n",
       "      <td>20.0</td>\n",
       "      <td>0</td>\n",
       "      <td>0</td>\n",
       "      <td>A/5. 2151</td>\n",
       "      <td>8.0500</td>\n",
       "      <td>NaN</td>\n",
       "      <td>S</td>\n",
       "    </tr>\n",
       "    <tr>\n",
       "      <th>13</th>\n",
       "      <td>14</td>\n",
       "      <td>0</td>\n",
       "      <td>3</td>\n",
       "      <td>Andersson, Mr. Anders Johan</td>\n",
       "      <td>male</td>\n",
       "      <td>39.0</td>\n",
       "      <td>1</td>\n",
       "      <td>5</td>\n",
       "      <td>347082</td>\n",
       "      <td>31.2750</td>\n",
       "      <td>NaN</td>\n",
       "      <td>S</td>\n",
       "    </tr>\n",
       "    <tr>\n",
       "      <th>14</th>\n",
       "      <td>15</td>\n",
       "      <td>0</td>\n",
       "      <td>3</td>\n",
       "      <td>Vestrom, Miss. Hulda Amanda Adolfina</td>\n",
       "      <td>female</td>\n",
       "      <td>14.0</td>\n",
       "      <td>0</td>\n",
       "      <td>0</td>\n",
       "      <td>350406</td>\n",
       "      <td>7.8542</td>\n",
       "      <td>NaN</td>\n",
       "      <td>S</td>\n",
       "    </tr>\n",
       "    <tr>\n",
       "      <th>15</th>\n",
       "      <td>16</td>\n",
       "      <td>1</td>\n",
       "      <td>2</td>\n",
       "      <td>Hewlett, Mrs. (Mary D Kingcome)</td>\n",
       "      <td>female</td>\n",
       "      <td>55.0</td>\n",
       "      <td>0</td>\n",
       "      <td>0</td>\n",
       "      <td>248706</td>\n",
       "      <td>16.0000</td>\n",
       "      <td>NaN</td>\n",
       "      <td>S</td>\n",
       "    </tr>\n",
       "    <tr>\n",
       "      <th>16</th>\n",
       "      <td>17</td>\n",
       "      <td>0</td>\n",
       "      <td>3</td>\n",
       "      <td>Rice, Master. Eugene</td>\n",
       "      <td>male</td>\n",
       "      <td>2.0</td>\n",
       "      <td>4</td>\n",
       "      <td>1</td>\n",
       "      <td>382652</td>\n",
       "      <td>29.1250</td>\n",
       "      <td>NaN</td>\n",
       "      <td>Q</td>\n",
       "    </tr>\n",
       "    <tr>\n",
       "      <th>17</th>\n",
       "      <td>18</td>\n",
       "      <td>1</td>\n",
       "      <td>2</td>\n",
       "      <td>Williams, Mr. Charles Eugene</td>\n",
       "      <td>male</td>\n",
       "      <td>NaN</td>\n",
       "      <td>0</td>\n",
       "      <td>0</td>\n",
       "      <td>244373</td>\n",
       "      <td>13.0000</td>\n",
       "      <td>NaN</td>\n",
       "      <td>S</td>\n",
       "    </tr>\n",
       "    <tr>\n",
       "      <th>18</th>\n",
       "      <td>19</td>\n",
       "      <td>0</td>\n",
       "      <td>3</td>\n",
       "      <td>Vander Planke, Mrs. Julius (Emelia Maria Vande...</td>\n",
       "      <td>female</td>\n",
       "      <td>31.0</td>\n",
       "      <td>1</td>\n",
       "      <td>0</td>\n",
       "      <td>345763</td>\n",
       "      <td>18.0000</td>\n",
       "      <td>NaN</td>\n",
       "      <td>S</td>\n",
       "    </tr>\n",
       "    <tr>\n",
       "      <th>19</th>\n",
       "      <td>20</td>\n",
       "      <td>1</td>\n",
       "      <td>3</td>\n",
       "      <td>Masselmani, Mrs. Fatima</td>\n",
       "      <td>female</td>\n",
       "      <td>NaN</td>\n",
       "      <td>0</td>\n",
       "      <td>0</td>\n",
       "      <td>2649</td>\n",
       "      <td>7.2250</td>\n",
       "      <td>NaN</td>\n",
       "      <td>C</td>\n",
       "    </tr>\n",
       "    <tr>\n",
       "      <th>20</th>\n",
       "      <td>21</td>\n",
       "      <td>0</td>\n",
       "      <td>2</td>\n",
       "      <td>Fynney, Mr. Joseph J</td>\n",
       "      <td>male</td>\n",
       "      <td>35.0</td>\n",
       "      <td>0</td>\n",
       "      <td>0</td>\n",
       "      <td>239865</td>\n",
       "      <td>26.0000</td>\n",
       "      <td>NaN</td>\n",
       "      <td>S</td>\n",
       "    </tr>\n",
       "    <tr>\n",
       "      <th>21</th>\n",
       "      <td>22</td>\n",
       "      <td>1</td>\n",
       "      <td>2</td>\n",
       "      <td>Beesley, Mr. Lawrence</td>\n",
       "      <td>male</td>\n",
       "      <td>34.0</td>\n",
       "      <td>0</td>\n",
       "      <td>0</td>\n",
       "      <td>248698</td>\n",
       "      <td>13.0000</td>\n",
       "      <td>D56</td>\n",
       "      <td>S</td>\n",
       "    </tr>\n",
       "    <tr>\n",
       "      <th>22</th>\n",
       "      <td>23</td>\n",
       "      <td>1</td>\n",
       "      <td>3</td>\n",
       "      <td>McGowan, Miss. Anna \"Annie\"</td>\n",
       "      <td>female</td>\n",
       "      <td>15.0</td>\n",
       "      <td>0</td>\n",
       "      <td>0</td>\n",
       "      <td>330923</td>\n",
       "      <td>8.0292</td>\n",
       "      <td>NaN</td>\n",
       "      <td>Q</td>\n",
       "    </tr>\n",
       "    <tr>\n",
       "      <th>23</th>\n",
       "      <td>24</td>\n",
       "      <td>1</td>\n",
       "      <td>1</td>\n",
       "      <td>Sloper, Mr. William Thompson</td>\n",
       "      <td>male</td>\n",
       "      <td>28.0</td>\n",
       "      <td>0</td>\n",
       "      <td>0</td>\n",
       "      <td>113788</td>\n",
       "      <td>35.5000</td>\n",
       "      <td>A6</td>\n",
       "      <td>S</td>\n",
       "    </tr>\n",
       "    <tr>\n",
       "      <th>24</th>\n",
       "      <td>25</td>\n",
       "      <td>0</td>\n",
       "      <td>3</td>\n",
       "      <td>Palsson, Miss. Torborg Danira</td>\n",
       "      <td>female</td>\n",
       "      <td>8.0</td>\n",
       "      <td>3</td>\n",
       "      <td>1</td>\n",
       "      <td>349909</td>\n",
       "      <td>21.0750</td>\n",
       "      <td>NaN</td>\n",
       "      <td>S</td>\n",
       "    </tr>\n",
       "    <tr>\n",
       "      <th>25</th>\n",
       "      <td>26</td>\n",
       "      <td>1</td>\n",
       "      <td>3</td>\n",
       "      <td>Asplund, Mrs. Carl Oscar (Selma Augusta Emilia...</td>\n",
       "      <td>female</td>\n",
       "      <td>38.0</td>\n",
       "      <td>1</td>\n",
       "      <td>5</td>\n",
       "      <td>347077</td>\n",
       "      <td>31.3875</td>\n",
       "      <td>NaN</td>\n",
       "      <td>S</td>\n",
       "    </tr>\n",
       "    <tr>\n",
       "      <th>26</th>\n",
       "      <td>27</td>\n",
       "      <td>0</td>\n",
       "      <td>3</td>\n",
       "      <td>Emir, Mr. Farred Chehab</td>\n",
       "      <td>male</td>\n",
       "      <td>NaN</td>\n",
       "      <td>0</td>\n",
       "      <td>0</td>\n",
       "      <td>2631</td>\n",
       "      <td>7.2250</td>\n",
       "      <td>NaN</td>\n",
       "      <td>C</td>\n",
       "    </tr>\n",
       "    <tr>\n",
       "      <th>27</th>\n",
       "      <td>28</td>\n",
       "      <td>0</td>\n",
       "      <td>1</td>\n",
       "      <td>Fortune, Mr. Charles Alexander</td>\n",
       "      <td>male</td>\n",
       "      <td>19.0</td>\n",
       "      <td>3</td>\n",
       "      <td>2</td>\n",
       "      <td>19950</td>\n",
       "      <td>263.0000</td>\n",
       "      <td>C23 C25 C27</td>\n",
       "      <td>S</td>\n",
       "    </tr>\n",
       "    <tr>\n",
       "      <th>28</th>\n",
       "      <td>29</td>\n",
       "      <td>1</td>\n",
       "      <td>3</td>\n",
       "      <td>O'Dwyer, Miss. Ellen \"Nellie\"</td>\n",
       "      <td>female</td>\n",
       "      <td>NaN</td>\n",
       "      <td>0</td>\n",
       "      <td>0</td>\n",
       "      <td>330959</td>\n",
       "      <td>7.8792</td>\n",
       "      <td>NaN</td>\n",
       "      <td>Q</td>\n",
       "    </tr>\n",
       "    <tr>\n",
       "      <th>29</th>\n",
       "      <td>30</td>\n",
       "      <td>0</td>\n",
       "      <td>3</td>\n",
       "      <td>Todoroff, Mr. Lalio</td>\n",
       "      <td>male</td>\n",
       "      <td>NaN</td>\n",
       "      <td>0</td>\n",
       "      <td>0</td>\n",
       "      <td>349216</td>\n",
       "      <td>7.8958</td>\n",
       "      <td>NaN</td>\n",
       "      <td>S</td>\n",
       "    </tr>\n",
       "    <tr>\n",
       "      <th>30</th>\n",
       "      <td>31</td>\n",
       "      <td>0</td>\n",
       "      <td>1</td>\n",
       "      <td>Uruchurtu, Don. Manuel E</td>\n",
       "      <td>male</td>\n",
       "      <td>40.0</td>\n",
       "      <td>0</td>\n",
       "      <td>0</td>\n",
       "      <td>PC 17601</td>\n",
       "      <td>27.7208</td>\n",
       "      <td>NaN</td>\n",
       "      <td>C</td>\n",
       "    </tr>\n",
       "    <tr>\n",
       "      <th>31</th>\n",
       "      <td>32</td>\n",
       "      <td>1</td>\n",
       "      <td>1</td>\n",
       "      <td>Spencer, Mrs. William Augustus (Marie Eugenie)</td>\n",
       "      <td>female</td>\n",
       "      <td>NaN</td>\n",
       "      <td>1</td>\n",
       "      <td>0</td>\n",
       "      <td>PC 17569</td>\n",
       "      <td>146.5208</td>\n",
       "      <td>B78</td>\n",
       "      <td>C</td>\n",
       "    </tr>\n",
       "    <tr>\n",
       "      <th>32</th>\n",
       "      <td>33</td>\n",
       "      <td>1</td>\n",
       "      <td>3</td>\n",
       "      <td>Glynn, Miss. Mary Agatha</td>\n",
       "      <td>female</td>\n",
       "      <td>NaN</td>\n",
       "      <td>0</td>\n",
       "      <td>0</td>\n",
       "      <td>335677</td>\n",
       "      <td>7.7500</td>\n",
       "      <td>NaN</td>\n",
       "      <td>Q</td>\n",
       "    </tr>\n",
       "    <tr>\n",
       "      <th>33</th>\n",
       "      <td>34</td>\n",
       "      <td>0</td>\n",
       "      <td>2</td>\n",
       "      <td>Wheadon, Mr. Edward H</td>\n",
       "      <td>male</td>\n",
       "      <td>66.0</td>\n",
       "      <td>0</td>\n",
       "      <td>0</td>\n",
       "      <td>C.A. 24579</td>\n",
       "      <td>10.5000</td>\n",
       "      <td>NaN</td>\n",
       "      <td>S</td>\n",
       "    </tr>\n",
       "    <tr>\n",
       "      <th>34</th>\n",
       "      <td>35</td>\n",
       "      <td>0</td>\n",
       "      <td>1</td>\n",
       "      <td>Meyer, Mr. Edgar Joseph</td>\n",
       "      <td>male</td>\n",
       "      <td>28.0</td>\n",
       "      <td>1</td>\n",
       "      <td>0</td>\n",
       "      <td>PC 17604</td>\n",
       "      <td>82.1708</td>\n",
       "      <td>NaN</td>\n",
       "      <td>C</td>\n",
       "    </tr>\n",
       "  </tbody>\n",
       "</table>\n",
       "</div>"
      ],
      "text/plain": [
       "    PassengerId  Survived  Pclass  \\\n",
       "0             1         0       3   \n",
       "1             2         1       1   \n",
       "2             3         1       3   \n",
       "3             4         1       1   \n",
       "4             5         0       3   \n",
       "5             6         0       3   \n",
       "6             7         0       1   \n",
       "7             8         0       3   \n",
       "8             9         1       3   \n",
       "9            10         1       2   \n",
       "10           11         1       3   \n",
       "11           12         1       1   \n",
       "12           13         0       3   \n",
       "13           14         0       3   \n",
       "14           15         0       3   \n",
       "15           16         1       2   \n",
       "16           17         0       3   \n",
       "17           18         1       2   \n",
       "18           19         0       3   \n",
       "19           20         1       3   \n",
       "20           21         0       2   \n",
       "21           22         1       2   \n",
       "22           23         1       3   \n",
       "23           24         1       1   \n",
       "24           25         0       3   \n",
       "25           26         1       3   \n",
       "26           27         0       3   \n",
       "27           28         0       1   \n",
       "28           29         1       3   \n",
       "29           30         0       3   \n",
       "30           31         0       1   \n",
       "31           32         1       1   \n",
       "32           33         1       3   \n",
       "33           34         0       2   \n",
       "34           35         0       1   \n",
       "\n",
       "                                                 Name     Sex   Age  SibSp  \\\n",
       "0                             Braund, Mr. Owen Harris    male  22.0      1   \n",
       "1   Cumings, Mrs. John Bradley (Florence Briggs Th...  female  38.0      1   \n",
       "2                              Heikkinen, Miss. Laina  female  26.0      0   \n",
       "3        Futrelle, Mrs. Jacques Heath (Lily May Peel)  female  35.0      1   \n",
       "4                            Allen, Mr. William Henry    male  35.0      0   \n",
       "5                                    Moran, Mr. James    male   NaN      0   \n",
       "6                             McCarthy, Mr. Timothy J    male  54.0      0   \n",
       "7                      Palsson, Master. Gosta Leonard    male   2.0      3   \n",
       "8   Johnson, Mrs. Oscar W (Elisabeth Vilhelmina Berg)  female  27.0      0   \n",
       "9                 Nasser, Mrs. Nicholas (Adele Achem)  female  14.0      1   \n",
       "10                    Sandstrom, Miss. Marguerite Rut  female   4.0      1   \n",
       "11                           Bonnell, Miss. Elizabeth  female  58.0      0   \n",
       "12                     Saundercock, Mr. William Henry    male  20.0      0   \n",
       "13                        Andersson, Mr. Anders Johan    male  39.0      1   \n",
       "14               Vestrom, Miss. Hulda Amanda Adolfina  female  14.0      0   \n",
       "15                   Hewlett, Mrs. (Mary D Kingcome)   female  55.0      0   \n",
       "16                               Rice, Master. Eugene    male   2.0      4   \n",
       "17                       Williams, Mr. Charles Eugene    male   NaN      0   \n",
       "18  Vander Planke, Mrs. Julius (Emelia Maria Vande...  female  31.0      1   \n",
       "19                            Masselmani, Mrs. Fatima  female   NaN      0   \n",
       "20                               Fynney, Mr. Joseph J    male  35.0      0   \n",
       "21                              Beesley, Mr. Lawrence    male  34.0      0   \n",
       "22                        McGowan, Miss. Anna \"Annie\"  female  15.0      0   \n",
       "23                       Sloper, Mr. William Thompson    male  28.0      0   \n",
       "24                      Palsson, Miss. Torborg Danira  female   8.0      3   \n",
       "25  Asplund, Mrs. Carl Oscar (Selma Augusta Emilia...  female  38.0      1   \n",
       "26                            Emir, Mr. Farred Chehab    male   NaN      0   \n",
       "27                     Fortune, Mr. Charles Alexander    male  19.0      3   \n",
       "28                      O'Dwyer, Miss. Ellen \"Nellie\"  female   NaN      0   \n",
       "29                                Todoroff, Mr. Lalio    male   NaN      0   \n",
       "30                           Uruchurtu, Don. Manuel E    male  40.0      0   \n",
       "31     Spencer, Mrs. William Augustus (Marie Eugenie)  female   NaN      1   \n",
       "32                           Glynn, Miss. Mary Agatha  female   NaN      0   \n",
       "33                              Wheadon, Mr. Edward H    male  66.0      0   \n",
       "34                            Meyer, Mr. Edgar Joseph    male  28.0      1   \n",
       "\n",
       "    Parch            Ticket      Fare        Cabin Embarked  \n",
       "0       0         A/5 21171    7.2500          NaN        S  \n",
       "1       0          PC 17599   71.2833          C85        C  \n",
       "2       0  STON/O2. 3101282    7.9250          NaN        S  \n",
       "3       0            113803   53.1000         C123        S  \n",
       "4       0            373450    8.0500          NaN        S  \n",
       "5       0            330877    8.4583          NaN        Q  \n",
       "6       0             17463   51.8625          E46        S  \n",
       "7       1            349909   21.0750          NaN        S  \n",
       "8       2            347742   11.1333          NaN        S  \n",
       "9       0            237736   30.0708          NaN        C  \n",
       "10      1           PP 9549   16.7000           G6        S  \n",
       "11      0            113783   26.5500         C103        S  \n",
       "12      0         A/5. 2151    8.0500          NaN        S  \n",
       "13      5            347082   31.2750          NaN        S  \n",
       "14      0            350406    7.8542          NaN        S  \n",
       "15      0            248706   16.0000          NaN        S  \n",
       "16      1            382652   29.1250          NaN        Q  \n",
       "17      0            244373   13.0000          NaN        S  \n",
       "18      0            345763   18.0000          NaN        S  \n",
       "19      0              2649    7.2250          NaN        C  \n",
       "20      0            239865   26.0000          NaN        S  \n",
       "21      0            248698   13.0000          D56        S  \n",
       "22      0            330923    8.0292          NaN        Q  \n",
       "23      0            113788   35.5000           A6        S  \n",
       "24      1            349909   21.0750          NaN        S  \n",
       "25      5            347077   31.3875          NaN        S  \n",
       "26      0              2631    7.2250          NaN        C  \n",
       "27      2             19950  263.0000  C23 C25 C27        S  \n",
       "28      0            330959    7.8792          NaN        Q  \n",
       "29      0            349216    7.8958          NaN        S  \n",
       "30      0          PC 17601   27.7208          NaN        C  \n",
       "31      0          PC 17569  146.5208          B78        C  \n",
       "32      0            335677    7.7500          NaN        Q  \n",
       "33      0        C.A. 24579   10.5000          NaN        S  \n",
       "34      0          PC 17604   82.1708          NaN        C  "
      ]
     },
     "execution_count": 6,
     "metadata": {},
     "output_type": "execute_result"
    }
   ],
   "source": [
    "Database.head(35)"
   ]
  },
  {
   "cell_type": "code",
   "execution_count": 8,
   "id": "030147b7-6610-4e76-9a35-efbc9502b5cc",
   "metadata": {},
   "outputs": [
    {
     "data": {
      "text/html": [
       "<div>\n",
       "<style scoped>\n",
       "    .dataframe tbody tr th:only-of-type {\n",
       "        vertical-align: middle;\n",
       "    }\n",
       "\n",
       "    .dataframe tbody tr th {\n",
       "        vertical-align: top;\n",
       "    }\n",
       "\n",
       "    .dataframe thead th {\n",
       "        text-align: right;\n",
       "    }\n",
       "</style>\n",
       "<table border=\"1\" class=\"dataframe\">\n",
       "  <thead>\n",
       "    <tr style=\"text-align: right;\">\n",
       "      <th></th>\n",
       "      <th>PassengerId</th>\n",
       "      <th>Survived</th>\n",
       "      <th>Pclass</th>\n",
       "      <th>Age</th>\n",
       "      <th>SibSp</th>\n",
       "      <th>Parch</th>\n",
       "      <th>Fare</th>\n",
       "    </tr>\n",
       "  </thead>\n",
       "  <tbody>\n",
       "    <tr>\n",
       "      <th>count</th>\n",
       "      <td>891.000000</td>\n",
       "      <td>891.000000</td>\n",
       "      <td>891.000000</td>\n",
       "      <td>714.000000</td>\n",
       "      <td>891.000000</td>\n",
       "      <td>891.000000</td>\n",
       "      <td>891.000000</td>\n",
       "    </tr>\n",
       "    <tr>\n",
       "      <th>mean</th>\n",
       "      <td>446.000000</td>\n",
       "      <td>0.383838</td>\n",
       "      <td>2.308642</td>\n",
       "      <td>29.699118</td>\n",
       "      <td>0.523008</td>\n",
       "      <td>0.381594</td>\n",
       "      <td>32.204208</td>\n",
       "    </tr>\n",
       "    <tr>\n",
       "      <th>std</th>\n",
       "      <td>257.353842</td>\n",
       "      <td>0.486592</td>\n",
       "      <td>0.836071</td>\n",
       "      <td>14.526497</td>\n",
       "      <td>1.102743</td>\n",
       "      <td>0.806057</td>\n",
       "      <td>49.693429</td>\n",
       "    </tr>\n",
       "    <tr>\n",
       "      <th>min</th>\n",
       "      <td>1.000000</td>\n",
       "      <td>0.000000</td>\n",
       "      <td>1.000000</td>\n",
       "      <td>0.420000</td>\n",
       "      <td>0.000000</td>\n",
       "      <td>0.000000</td>\n",
       "      <td>0.000000</td>\n",
       "    </tr>\n",
       "    <tr>\n",
       "      <th>25%</th>\n",
       "      <td>223.500000</td>\n",
       "      <td>0.000000</td>\n",
       "      <td>2.000000</td>\n",
       "      <td>20.125000</td>\n",
       "      <td>0.000000</td>\n",
       "      <td>0.000000</td>\n",
       "      <td>7.910400</td>\n",
       "    </tr>\n",
       "    <tr>\n",
       "      <th>50%</th>\n",
       "      <td>446.000000</td>\n",
       "      <td>0.000000</td>\n",
       "      <td>3.000000</td>\n",
       "      <td>28.000000</td>\n",
       "      <td>0.000000</td>\n",
       "      <td>0.000000</td>\n",
       "      <td>14.454200</td>\n",
       "    </tr>\n",
       "    <tr>\n",
       "      <th>75%</th>\n",
       "      <td>668.500000</td>\n",
       "      <td>1.000000</td>\n",
       "      <td>3.000000</td>\n",
       "      <td>38.000000</td>\n",
       "      <td>1.000000</td>\n",
       "      <td>0.000000</td>\n",
       "      <td>31.000000</td>\n",
       "    </tr>\n",
       "    <tr>\n",
       "      <th>max</th>\n",
       "      <td>891.000000</td>\n",
       "      <td>1.000000</td>\n",
       "      <td>3.000000</td>\n",
       "      <td>80.000000</td>\n",
       "      <td>8.000000</td>\n",
       "      <td>6.000000</td>\n",
       "      <td>512.329200</td>\n",
       "    </tr>\n",
       "  </tbody>\n",
       "</table>\n",
       "</div>"
      ],
      "text/plain": [
       "       PassengerId    Survived      Pclass         Age       SibSp  \\\n",
       "count   891.000000  891.000000  891.000000  714.000000  891.000000   \n",
       "mean    446.000000    0.383838    2.308642   29.699118    0.523008   \n",
       "std     257.353842    0.486592    0.836071   14.526497    1.102743   \n",
       "min       1.000000    0.000000    1.000000    0.420000    0.000000   \n",
       "25%     223.500000    0.000000    2.000000   20.125000    0.000000   \n",
       "50%     446.000000    0.000000    3.000000   28.000000    0.000000   \n",
       "75%     668.500000    1.000000    3.000000   38.000000    1.000000   \n",
       "max     891.000000    1.000000    3.000000   80.000000    8.000000   \n",
       "\n",
       "            Parch        Fare  \n",
       "count  891.000000  891.000000  \n",
       "mean     0.381594   32.204208  \n",
       "std      0.806057   49.693429  \n",
       "min      0.000000    0.000000  \n",
       "25%      0.000000    7.910400  \n",
       "50%      0.000000   14.454200  \n",
       "75%      0.000000   31.000000  \n",
       "max      6.000000  512.329200  "
      ]
     },
     "execution_count": 8,
     "metadata": {},
     "output_type": "execute_result"
    }
   ],
   "source": [
    "Database.describe()"
   ]
  },
  {
   "cell_type": "markdown",
   "id": "2cb2896f-8696-4a63-835e-6fa23ce9c7ff",
   "metadata": {},
   "source": [
    "# Identificacion con valores aticos y faltantes "
   ]
  },
  {
   "cell_type": "code",
   "execution_count": 11,
   "id": "1ba33761-0fd7-4321-8d21-56e0b938206b",
   "metadata": {},
   "outputs": [
    {
     "data": {
      "text/plain": [
       "Text(0.5, 1.0, 'Identificación Datos atipicos y faltantes')"
      ]
     },
     "execution_count": 11,
     "metadata": {},
     "output_type": "execute_result"
    },
    {
     "data": {
      "image/png": "[encoded data removed]",
      "text/plain": [
       "<Figure size 800x200 with 1 Axes>"
      ]
     },
     "metadata": {},
     "output_type": "display_data"
    }
   ],
   "source": [
    "plt.figure(figsize=(8,2))\n",
    "sns.boxplot(x=Database['Age'])\n",
    "plt.title('Identificación Datos atipicos y faltantes', fontsize=12)"
   ]
  },
  {
   "cell_type": "code",
   "execution_count": 13,
   "id": "0274cc8d-3c0e-4448-ade9-367405b5be67",
   "metadata": {},
   "outputs": [
    {
     "data": {
      "text/plain": [
       "Text(0.5, 1.0, 'Identificación Datos atipicos y faltantes')"
      ]
     },
     "execution_count": 13,
     "metadata": {},
     "output_type": "execute_result"
    },
    {
     "data": {
      "image/png": "[encoded data removed]",
      "text/plain": [
       "<Figure size 800x200 with 1 Axes>"
      ]
     },
     "metadata": {},
     "output_type": "display_data"
    }
   ],
   "source": [
    "plt.figure(figsize=(8,2))\n",
    "sns.boxplot(x=Database['Fare'])\n",
    "plt.title('Identificación Datos atipicos y faltantes', fontsize=12)"
   ]
  },
  {
   "cell_type": "code",
   "execution_count": 15,
   "id": "76857597-8e19-4cbe-ad4a-bf892a14d7bc",
   "metadata": {},
   "outputs": [
    {
     "data": {
      "text/plain": [
       "Text(0.5, 1.0, 'Identificación Datos atipicos y faltantes')"
      ]
     },
     "execution_count": 15,
     "metadata": {},
     "output_type": "execute_result"
    },
    {
     "data": {
      "image/png": "[encoded data removed]",
      "text/plain": [
       "<Figure size 800x200 with 1 Axes>"
      ]
     },
     "metadata": {},
     "output_type": "display_data"
    }
   ],
   "source": [
    "plt.figure(figsize=(8,2))\n",
    "sns.boxplot(x=Database['SibSp'])\n",
    "plt.title('Identificación Datos atipicos y faltantes', fontsize=12)"
   ]
  },
  {
   "cell_type": "code",
   "execution_count": 17,
   "id": "857d1031-71e5-46e1-b31f-71b467c471c9",
   "metadata": {},
   "outputs": [
    {
     "data": {
      "text/plain": [
       "Text(0.5, 1.0, 'Identificación Datos atipicos y faltantes')"
      ]
     },
     "execution_count": 17,
     "metadata": {},
     "output_type": "execute_result"
    },
    {
     "data": {
      "image/png": "[encoded data removed]",
      "text/plain": [
       "<Figure size 800x200 with 1 Axes>"
      ]
     },
     "metadata": {},
     "output_type": "display_data"
    }
   ],
   "source": [
    "plt.figure(figsize=(8,2))\n",
    "sns.boxplot(x=Database['Parch'])\n",
    "plt.title('Identificación Datos atipicos y faltantes', fontsize=12)"
   ]
  },
  {
   "cell_type": "code",
   "execution_count": 19,
   "id": "04867a31-9f16-4710-bb19-d77f8f347931",
   "metadata": {},
   "outputs": [
    {
     "data": {
      "text/plain": [
       "Text(0.5, 1.0, 'Identificación Datos atipicos y faltantes')"
      ]
     },
     "execution_count": 19,
     "metadata": {},
     "output_type": "execute_result"
    },
    {
     "data": {
      "image/png": "[encoded data removed]",
      "text/plain": [
       "<Figure size 800x200 with 1 Axes>"
      ]
     },
     "metadata": {},
     "output_type": "display_data"
    }
   ],
   "source": [
    "plt.figure(figsize=(8,2))\n",
    "sns.boxplot(x=Database['Pclass'])\n",
    "plt.title('Identificación Datos atipicos y faltantes', fontsize=12)"
   ]
  },
  {
   "cell_type": "code",
   "execution_count": 21,
   "id": "81f75a08-b1f9-43b4-8916-d2fe1d78540f",
   "metadata": {},
   "outputs": [
    {
     "name": "stdout",
     "output_type": "stream",
     "text": [
      "<class 'pandas.core.frame.DataFrame'>\n",
      "RangeIndex: 891 entries, 0 to 890\n",
      "Data columns (total 12 columns):\n",
      " #   Column       Non-Null Count  Dtype  \n",
      "---  ------       --------------  -----  \n",
      " 0   PassengerId  891 non-null    int64  \n",
      " 1   Survived     891 non-null    int64  \n",
      " 2   Pclass       891 non-null    int64  \n",
      " 3   Name         891 non-null    object \n",
      " 4   Sex          891 non-null    object \n",
      " 5   Age          714 non-null    float64\n",
      " 6   SibSp        891 non-null    int64  \n",
      " 7   Parch        891 non-null    int64  \n",
      " 8   Ticket       891 non-null    object \n",
      " 9   Fare         891 non-null    float64\n",
      " 10  Cabin        204 non-null    object \n",
      " 11  Embarked     889 non-null    object \n",
      "dtypes: float64(2), int64(5), object(5)\n",
      "memory usage: 83.7+ KB\n"
     ]
    }
   ],
   "source": [
    "#revision tipo de datos y datos faltantes \n",
    "Database.info()"
   ]
  },
  {
   "cell_type": "code",
   "execution_count": 23,
   "id": "7e13dbfa-d5df-49f5-8124-d95aa8291d7e",
   "metadata": {},
   "outputs": [],
   "source": [
    "#Valores faltantes \n",
    "Database['Age'] = Database['Age'].fillna(Database['Age'].mean())\n",
    "valor_mas_frecuente = Database['Cabin'].mode()[0]\n",
    "Database['Cabin'] = Database['Cabin'].fillna(valor_mas_frecuente)\n",
    "valor_mas_frecuente = Database['Embarked'].mode()[0]\n",
    "Database['Embarked'] = Database['Embarked'].fillna(valor_mas_frecuente)"
   ]
  },
  {
   "cell_type": "code",
   "execution_count": 25,
   "id": "80ddce3a-6b99-4661-8e1e-440469e32c0f",
   "metadata": {},
   "outputs": [
    {
     "name": "stdout",
     "output_type": "stream",
     "text": [
      "Cantidad de Registros con cero en Edad:  0\n",
      "Cantidad de Registros con cero en la embarcación  0\n",
      "Cantidad de Registros con cero en la tarifa:  15\n",
      "Cantidad de Registros con cero en la clase pc  0\n",
      "Cantidad de Registros con cero en la cabina  0\n"
     ]
    }
   ],
   "source": [
    "#Revisión nuevamente de datos faltantes\n",
    "print(\"Cantidad de Registros con cero en Edad: \", Database[\"Age\"].isin([0]).sum())\n",
    "print(\"Cantidad de Registros con cero en la embarcación \", Database[\"Embarked\"].isin([0]).sum())\n",
    "print(\"Cantidad de Registros con cero en la tarifa: \", Database[\"Fare\"].isin([0]).sum())\n",
    "print(\"Cantidad de Registros con cero en la clase pc \", Database[\"Pclass\"].isin([0]).sum())\n",
    "print(\"Cantidad de Registros con cero en la cabina \", Database[\"Cabin\"].isin([0]).sum())"
   ]
  },
  {
   "cell_type": "code",
   "execution_count": 27,
   "id": "4e588cc2-7d43-4a7c-86d5-40ffa7cb6d0c",
   "metadata": {},
   "outputs": [],
   "source": [
    "# Reemplazar todos los ceros con el valor medio (promedio) de la columna.\n",
    "Database['Fare']=Database['Fare'].replace(0,Database['Fare'].mean())"
   ]
  },
  {
   "cell_type": "code",
   "execution_count": 29,
   "id": "1b567257-a369-43ae-9ad2-ef60671a07b2",
   "metadata": {},
   "outputs": [
    {
     "name": "stdout",
     "output_type": "stream",
     "text": [
      "Cantidad de Registros con cero en Edad:  0\n",
      "Cantidad de Registros con cero en la embarcación  0\n",
      "Cantidad de Registros con cero en la tarifa:  0\n",
      "Cantidad de Registros con cero en la clase pc  0\n",
      "Cantidad de Registros con cero en la cabina  0\n"
     ]
    }
   ],
   "source": [
    "#Revisión nuevamente de datos faltantes\n",
    "print(\"Cantidad de Registros con cero en Edad: \", Database[\"Age\"].isin([0]).sum())\n",
    "print(\"Cantidad de Registros con cero en la embarcación \", Database[\"Embarked\"].isin([0]).sum())\n",
    "print(\"Cantidad de Registros con cero en la tarifa: \", Database[\"Fare\"].isin([0]).sum())\n",
    "print(\"Cantidad de Registros con cero en la clase pc \", Database[\"Pclass\"].isin([0]).sum())\n",
    "print(\"Cantidad de Registros con cero en la cabina \", Database[\"Cabin\"].isin([0]).sum())"
   ]
  },
  {
   "cell_type": "code",
   "execution_count": 31,
   "id": "7f9d6d5e-4a8a-46ac-9e42-1b58339e71cf",
   "metadata": {},
   "outputs": [
    {
     "data": {
      "text/plain": [
       "Text(0.5, 1.0, 'Identificación Datos atipicos y faltantes')"
      ]
     },
     "execution_count": 31,
     "metadata": {},
     "output_type": "execute_result"
    },
    {
     "data": {
      "image/png": "[encoded data removed]",
      "text/plain": [
       "<Figure size 800x200 with 1 Axes>"
      ]
     },
     "metadata": {},
     "output_type": "display_data"
    }
   ],
   "source": [
    "#Identificación de Datos Atípicos\n",
    "plt.figure(figsize=(8,2))\n",
    "sns.boxplot(x=Database['Fare'])\n",
    "plt.title('Identificación Datos atipicos y faltantes', fontsize=12)"
   ]
  },
  {
   "cell_type": "code",
   "execution_count": 43,
   "id": "18f8ceea-5b00-43d7-864f-a0d3b6622867",
   "metadata": {},
   "outputs": [
    {
     "name": "stdout",
     "output_type": "stream",
     "text": [
      "El total de datos atípicos es 3\n"
     ]
    }
   ],
   "source": [
    "# definicion de niveles para considerar los datos atipicos \n",
    "nivel_minimo=1\n",
    "nivel_maximo=500\n",
    "Total_Atipicos=((Database['Fare'] < nivel_minimo) | (Database['Fare'] > nivel_maximo)).sum()\n",
    "print(\"El total de datos atípicos es {}\".format(Total_Atipicos))"
   ]
  },
  {
   "cell_type": "code",
   "execution_count": 45,
   "id": "7d8f2b95-cd02-4932-8427-4eaf64e32465",
   "metadata": {},
   "outputs": [],
   "source": [
    "#Filtracion de los datos atipicos\n",
    "Database = Database[(Database['Fare'] <= nivel_maximo) & (Database['Fare'] >= nivel_minimo)]"
   ]
  },
  {
   "cell_type": "code",
   "execution_count": 47,
   "id": "6820155b-02c5-4870-ad64-c5dcc4a34a6e",
   "metadata": {},
   "outputs": [
    {
     "name": "stdout",
     "output_type": "stream",
     "text": [
      "El total de datos atípicos es 0\n"
     ]
    }
   ],
   "source": [
    "#Validación\n",
    "Total_Atipicos=((Database['Fare'] < nivel_minimo) | (Database['Fare'] > nivel_maximo)).sum()\n",
    "print(\"El total de datos atípicos es {}\".format(Total_Atipicos))"
   ]
  },
  {
   "cell_type": "code",
   "execution_count": 49,
   "id": "09dde6ff-d2c8-4990-bbe6-06e041b6f8f0",
   "metadata": {},
   "outputs": [
    {
     "name": "stdout",
     "output_type": "stream",
     "text": [
      "<class 'pandas.core.frame.DataFrame'>\n",
      "Index: 888 entries, 0 to 890\n",
      "Data columns (total 12 columns):\n",
      " #   Column       Non-Null Count  Dtype  \n",
      "---  ------       --------------  -----  \n",
      " 0   PassengerId  888 non-null    int64  \n",
      " 1   Survived     888 non-null    int64  \n",
      " 2   Pclass       888 non-null    int64  \n",
      " 3   Name         888 non-null    object \n",
      " 4   Sex          888 non-null    object \n",
      " 5   Age          888 non-null    float64\n",
      " 6   SibSp        888 non-null    int64  \n",
      " 7   Parch        888 non-null    int64  \n",
      " 8   Ticket       888 non-null    object \n",
      " 9   Fare         888 non-null    float64\n",
      " 10  Cabin        888 non-null    object \n",
      " 11  Embarked     888 non-null    object \n",
      "dtypes: float64(2), int64(5), object(5)\n",
      "memory usage: 90.2+ KB\n"
     ]
    }
   ],
   "source": [
    "#revision tipo de datos y datos faltantes \n",
    "Database.info()"
   ]
  },
  {
   "cell_type": "markdown",
   "id": "b377d955-be3c-4190-a861-a00a8f8f697d",
   "metadata": {},
   "source": [
    "# Seleccionar las características más relevantes para entrenar el modelo utilizando selección de características"
   ]
  },
  {
   "cell_type": "markdown",
   "id": "bfb4309a-facf-4108-a406-52733329df4a",
   "metadata": {},
   "source": [
    "## Caracteristicas\n",
    "* Sobrevicio 0= No 1=Si\n",
    "* Predecir si una persona sobrevicio o no al naufragio"
   ]
  },
  {
   "cell_type": "code",
   "execution_count": 53,
   "id": "3d39f358-59b4-4cfb-b531-1b67035ac2a0",
   "metadata": {},
   "outputs": [
    {
     "data": {
      "text/plain": [
       "Survived\n",
       "0    549\n",
       "1    339\n",
       "Name: count, dtype: int64"
      ]
     },
     "execution_count": 53,
     "metadata": {},
     "output_type": "execute_result"
    }
   ],
   "source": [
    "# Total de personas que sobrevicieron o no \n",
    "Database['Survived'].value_counts()"
   ]
  },
  {
   "cell_type": "code",
   "execution_count": 55,
   "id": "f19ca3c2-9ce9-408e-aa04-b0529f2c3f93",
   "metadata": {},
   "outputs": [],
   "source": [
    "Database = Database.drop('Name', axis=1)\n",
    "Database = Database.drop('Sex', axis=1)\n",
    "Database = Database.drop('Ticket', axis=1)\n",
    "Database = Database.drop('Cabin', axis=1)\n",
    "Database = Database.drop('Embarked', axis=1)"
   ]
  },
  {
   "cell_type": "markdown",
   "id": "4940e90a-20be-40da-b22a-2bf433bd5f28",
   "metadata": {},
   "source": [
    "# Division del dataser en train y test para evaluar el modelo de manera correcta"
   ]
  },
  {
   "cell_type": "code",
   "execution_count": 78,
   "id": "c66c6d08-48e4-4196-af08-8da9598b0dd5",
   "metadata": {},
   "outputs": [],
   "source": [
    "# Porcentaje de datos para entrenamiento (train) = 75%, y para pruebas (test) = 25%\n",
    "\n",
    "# Se crean variables X y Y para almacenar la información del entrenamiento\n",
    "\n",
    "X = Database.drop([\"Survived\"], axis=1) # Se cargan los datos de train sin los datos de la columna sobrevivientes\n",
    "Y = Database[\"Survived\"] # Se cargan los datos de la columna sobrevivientes\n",
    "\n",
    "# La función train_test_split crea una división de un conjunto de datos en dos bloques: uno de entrenamiento y otro de prueba (train y test)\n",
    "X_train, X_test, Y_train, Y_test = train_test_split(X, Y, test_size=0.25, stratify=Y, random_state=0)"
   ]
  },
  {
   "cell_type": "code",
   "execution_count": 80,
   "id": "cd56e942-17f2-472f-a8c9-3c21196fdfec",
   "metadata": {},
   "outputs": [
    {
     "name": "stdout",
     "output_type": "stream",
     "text": [
      "     PassengerId  Pclass        Age  SibSp  Parch     Fare\n",
      "671          672       1  31.000000      1      0  52.0000\n",
      "488          489       3  30.000000      0      0   8.0500\n",
      "634          635       3   9.000000      3      2  27.9000\n",
      "21            22       2  34.000000      0      0  13.0000\n",
      "418          419       2  30.000000      0      0  13.0000\n",
      "..           ...     ...        ...    ...    ...      ...\n",
      "131          132       3  20.000000      0      0   7.0500\n",
      "490          491       3  29.699118      1      0  19.9667\n",
      "528          529       3  39.000000      0      0   7.9250\n",
      "48            49       3  29.699118      2      0  21.6792\n",
      "80            81       3  22.000000      0      0   9.0000\n",
      "\n",
      "[666 rows x 6 columns]\n"
     ]
    }
   ],
   "source": [
    "print(X_train)"
   ]
  },
  {
   "cell_type": "code",
   "execution_count": 82,
   "id": "bb69a5e8-72f4-4c98-95dc-a7299be4fa91",
   "metadata": {},
   "outputs": [
    {
     "name": "stdout",
     "output_type": "stream",
     "text": [
      "671    0\n",
      "488    0\n",
      "634    0\n",
      "21     1\n",
      "418    0\n",
      "      ..\n",
      "131    0\n",
      "490    0\n",
      "528    0\n",
      "48     0\n",
      "80     0\n",
      "Name: Survived, Length: 666, dtype: int64\n"
     ]
    }
   ],
   "source": [
    "print(Y_train)"
   ]
  },
  {
   "cell_type": "code",
   "execution_count": 84,
   "id": "08c246b3-66ff-4af0-9fb7-fc6966c4ca54",
   "metadata": {},
   "outputs": [],
   "source": [
    "# Construir el modelo de regresión logística\n",
    "modelo_reglog = LogisticRegression(solver=\"liblinear\")\n",
    "\n",
    "# Entrenar el modelo con los datos de entrenamiento\n",
    "modelo_reglog.fit(X_train, Y_train)  \n",
    "\n",
    "# Crear el modelo de predicción\n",
    "prediccion = modelo_reglog.predict(X_test)"
   ]
  },
  {
   "cell_type": "code",
   "execution_count": 86,
   "id": "ef18a6da-4e7e-4871-b34e-ba45fabd1682",
   "metadata": {},
   "outputs": [
    {
     "name": "stdout",
     "output_type": "stream",
     "text": [
      "654    0\n",
      "319    1\n",
      "182    0\n",
      "684    0\n",
      "600    1\n",
      "      ..\n",
      "882    0\n",
      "434    0\n",
      "304    0\n",
      "500    0\n",
      "633    0\n",
      "Name: Survived, Length: 222, dtype: int64\n"
     ]
    }
   ],
   "source": [
    "# Verificar los resultados reales del conjunto de prueba\n",
    "print(Y_test)"
   ]
  },
  {
   "cell_type": "code",
   "execution_count": 88,
   "id": "02d7e796-8ec5-4c83-af9b-0c758cf450d9",
   "metadata": {},
   "outputs": [
    {
     "name": "stdout",
     "output_type": "stream",
     "text": [
      "[0 1 0 0 0 0 0 0 0 0 0 0 0 0 1 1 1 0 0 0 0 0 1 0 0 0 0 0 0 0 0 0 0 0 1 0 1\n",
      " 1 0 0 0 0 0 0 0 0 0 1 1 0 0 1 0 0 0 0 0 0 0 0 0 0 0 0 0 0 1 0 0 1 0 0 0 1\n",
      " 1 1 1 0 0 0 1 0 0 0 1 0 1 0 1 0 0 0 1 0 1 0 0 0 0 1 0 0 1 0 0 1 0 0 0 0 1\n",
      " 0 0 1 0 1 0 0 0 0 1 1 1 0 0 0 0 1 0 1 1 0 0 0 0 0 0 0 0 0 0 1 0 0 0 1 0 0\n",
      " 0 0 1 0 0 0 0 0 1 1 0 0 0 0 1 0 1 0 0 0 1 0 0 0 1 0 0 0 1 0 1 0 0 0 0 1 0\n",
      " 0 0 0 0 0 1 1 0 0 1 0 0 0 0 1 0 0 0 1 0 1 1 0 0 0 0 0 0 1 0 0 1 0 0 0 0 1]\n"
     ]
    }
   ],
   "source": [
    "print(prediccion)"
   ]
  },
  {
   "cell_type": "markdown",
   "id": "93d86c6b-6beb-46fe-808a-0b4203df9723",
   "metadata": {},
   "source": [
    "# Desempeño del modelo"
   ]
  },
  {
   "cell_type": "code",
   "execution_count": 91,
   "id": "990682e0-8c06-42dc-85a9-4eff87beca36",
   "metadata": {},
   "outputs": [
    {
     "name": "stdout",
     "output_type": "stream",
     "text": [
      "              precision    recall  f1-score   support\n",
      "\n",
      "           0       0.72      0.86      0.78       137\n",
      "           1       0.67      0.45      0.54        85\n",
      "\n",
      "    accuracy                           0.70       222\n",
      "   macro avg       0.69      0.65      0.66       222\n",
      "weighted avg       0.70      0.70      0.69       222\n",
      "\n"
     ]
    }
   ],
   "source": [
    "print(classification_report(Y_test,prediccion))"
   ]
  },
  {
   "cell_type": "markdown",
   "id": "db840e16-0914-4191-be2c-dc4f25475324",
   "metadata": {},
   "source": [
    "# Graficas"
   ]
  },
  {
   "cell_type": "code",
   "execution_count": 94,
   "id": "dedd02c0-29c5-4f42-8dfa-46d8d8dad975",
   "metadata": {},
   "outputs": [
    {
     "data": {
      "text/plain": [
       "<sklearn.metrics._plot.confusion_matrix.ConfusionMatrixDisplay at 0x178d20caf30>"
      ]
     },
     "execution_count": 94,
     "metadata": {},
     "output_type": "execute_result"
    },
    {
     "data": {
      "image/png": "[encoded data removed]",
      "text/plain": [
       "<Figure size 640x480 with 2 Axes>"
      ]
     },
     "metadata": {},
     "output_type": "display_data"
    }
   ],
   "source": [
    "#Matrix de confusion\n",
    "cm=confusion_matrix(Y_test,prediccion)\n",
    "disp=metrics.ConfusionMatrixDisplay(confusion_matrix=cm)\n",
    "disp.plot()"
   ]
  },
  {
   "cell_type": "code",
   "execution_count": 96,
   "id": "9ddb376c-b465-4af1-939d-b04e0af487c6",
   "metadata": {},
   "outputs": [
    {
     "data": {
      "image/png": "[encoded data removed]",
      "text/plain": [
       "<Figure size 640x480 with 1 Axes>"
      ]
     },
     "metadata": {},
     "output_type": "display_data"
    }
   ],
   "source": [
    "#Curva de precision \n",
    "from sklearn.metrics import RocCurveDisplay\n",
    "RocCurveDisplay.from_predictions(Y_test,prediccion)\n",
    "plt.show()"
   ]
  }
 ],
 "metadata": {
  "kernelspec": {
   "display_name": "Python 3 (ipykernel)",
   "language": "python",
   "name": "python3"
  },
  "language_info": {
   "codemirror_mode": {
    "name": "ipython",
    "version": 3
   },
   "file_extension": ".py",
   "mimetype": "text/x-python",
   "name": "python",
   "nbconvert_exporter": "python",
   "pygments_lexer": "ipython3",
   "version": "3.12.7"
  }
 },
 "nbformat": 4,
 "nbformat_minor": 5
}
